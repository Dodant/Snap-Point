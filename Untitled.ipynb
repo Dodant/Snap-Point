{
 "cells": [
  {
   "cell_type": "code",
   "execution_count": 1,
   "metadata": {},
   "outputs": [
    {
     "name": "stdout",
     "output_type": "stream",
     "text": [
      "File Name : 30_times.wav\n",
      "File Duration : 18.520825\n",
      "Sampling Rate : 40000\n",
      "# of Samples : 740833\n",
      "Beat Times : 26\n",
      "[ 0.0512  0.7168  1.2928  2.0992  2.8416  3.584   4.352   5.1328  5.8624\n",
      "  6.5536  7.1296  7.68    8.1664  8.7936  9.3824  9.9968 10.6496 11.3024\n",
      " 11.9296 12.5696 13.248  13.9392 14.6048 15.1424 15.9616 16.5888]\n"
     ]
    },
    {
     "name": "stderr",
     "output_type": "stream",
     "text": [
      "/Users/Dodanto/anaconda3/lib/python3.7/site-packages/librosa/beat.py:309: DeprecationWarning: np.asscalar(a) is deprecated since NumPy v1.16, use a.item() instead\n",
      "  hop_length=hop_length))\n"
     ]
    }
   ],
   "source": [
    "import librosa\n",
    "\n",
    "filepath = \"30_times.wav\"\n",
    "\n",
    "y, sr = librosa.load(filepath, sr=40000)\n",
    "tempo, beat_frames = librosa.beat.beat_track(y=y, sr=sr)\n",
    "beat_times = librosa.frames_to_time(beat_frames, sr=sr)\n",
    "duration = librosa.get_duration(y=y, sr=sr)\n",
    "print('File Name :', filepath)\n",
    "print('File Duration :', duration)\n",
    "print('Sampling Rate :', sr)\n",
    "print('# of Samples :', len(y))\n",
    "print('Beat Times :', len(beat_times))\n",
    "print(beat_times)"
   ]
  },
  {
   "cell_type": "code",
   "execution_count": 2,
   "metadata": {},
   "outputs": [
    {
     "name": "stdout",
     "output_type": "stream",
     "text": [
      "File Name : 30_times.wav\n",
      "File Duration : 18.520825\n",
      "Sampling Rate : 40000\n",
      "# of Samples : 740833\n",
      "Beat Times : 26\n",
      "[ 0.0512  0.7168  1.2928  2.0992  2.8416  3.584   4.352   5.1328  5.8624\n",
      "  6.5536  7.1296  7.68    8.1664  8.7936  9.3824  9.9968 10.6496 11.3024\n",
      " 11.9296 12.5696 13.248  13.9392 14.6048 15.1424 15.9616 16.5888]\n"
     ]
    },
    {
     "name": "stderr",
     "output_type": "stream",
     "text": [
      "/Users/Dodanto/anaconda3/lib/python3.7/site-packages/librosa/beat.py:309: DeprecationWarning: np.asscalar(a) is deprecated since NumPy v1.16, use a.item() instead\n",
      "  hop_length=hop_length))\n"
     ]
    }
   ],
   "source": [
    "import Get_Info as gi\n",
    "\n",
    "gi.basic_info(filepath)"
   ]
  },
  {
   "cell_type": "code",
   "execution_count": null,
   "metadata": {},
   "outputs": [],
   "source": []
  },
  {
   "cell_type": "code",
   "execution_count": null,
   "metadata": {},
   "outputs": [],
   "source": []
  }
 ],
 "metadata": {
  "kernelspec": {
   "display_name": "Python 3",
   "language": "python",
   "name": "python3"
  },
  "language_info": {
   "codemirror_mode": {
    "name": "ipython",
    "version": 3
   },
   "file_extension": ".py",
   "mimetype": "text/x-python",
   "name": "python",
   "nbconvert_exporter": "python",
   "pygments_lexer": "ipython3",
   "version": "3.7.5"
  }
 },
 "nbformat": 4,
 "nbformat_minor": 2
}
